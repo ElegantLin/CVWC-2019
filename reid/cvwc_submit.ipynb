{
 "cells": [
  {
   "cell_type": "code",
   "execution_count": 1,
   "metadata": {},
   "outputs": [
    {
     "name": "stdout",
     "output_type": "stream",
     "text": [
      "env: CUDA_VISIBLE_DEVICES=1\n"
     ]
    }
   ],
   "source": [
    "%env CUDA_VISIBLE_DEVICES 1"
   ]
  },
  {
   "cell_type": "code",
   "execution_count": 2,
   "metadata": {},
   "outputs": [],
   "source": [
    "import torch\n",
    "import torchvision\n",
    "from torchvision import transforms as T\n",
    "import numpy as np\n",
    "from tqdm import tqdm_notebook\n",
    "from PIL import Image\n",
    "from glob import glob\n",
    "import shutil\n",
    "from sklearn.cluster import KMeans"
   ]
  },
  {
   "cell_type": "code",
   "execution_count": 3,
   "metadata": {},
   "outputs": [],
   "source": [
    "from model import build_model\n",
    "from dataset import make_dataloader\n",
    "from config import cfg"
   ]
  },
  {
   "cell_type": "code",
   "execution_count": 4,
   "metadata": {},
   "outputs": [],
   "source": [
    "cfg.merge_from_file('configs/cvwc1.yml')"
   ]
  },
  {
   "cell_type": "code",
   "execution_count": 5,
   "metadata": {},
   "outputs": [
    {
     "name": "stdout",
     "output_type": "stream",
     "text": [
      "=> Data loaded\n",
      "Dataset statistics:\n",
      "  ----------------------------------------\n",
      "  subset   | # ids | # images | # cameras\n",
      "  ----------------------------------------\n",
      "  train    |   107 |     1887 |         1\n",
      "  query    |    20 |       40 |         1\n",
      "  gallery  |    20 |      438 |         1\n",
      "  ----------------------------------------\n"
     ]
    }
   ],
   "source": [
    "_, _, _, num_classes = make_dataloader(cfg)"
   ]
  },
  {
   "cell_type": "code",
   "execution_count": 6,
   "metadata": {},
   "outputs": [],
   "source": [
    "model = build_model(cfg, num_classes)\n",
    "para_dict = torch.load('outputs/cvwc_local/resnet50_epoch45.pth')\n",
    "model.load_state_dict(para_dict)\n",
    "model.cuda()\n",
    "model.eval();"
   ]
  },
  {
   "cell_type": "code",
   "execution_count": 7,
   "metadata": {},
   "outputs": [],
   "source": [
    "trm = T.Compose([\n",
    "    T.Resize(cfg.INPUT.SIZE_TEST),\n",
    "    T.ToTensor(),\n",
    "    T.Normalize(mean=cfg.INPUT.PIXEL_MEAN, std=cfg.INPUT.PIXEL_STD),\n",
    "])"
   ]
  },
  {
   "cell_type": "code",
   "execution_count": 8,
   "metadata": {},
   "outputs": [
    {
     "data": {
      "text/plain": [
       "(1764, 1764)"
      ]
     },
     "execution_count": 8,
     "metadata": {},
     "output_type": "execute_result"
    }
   ],
   "source": [
    "gallery_list = sorted(glob('/home/zbc/data/cvwc/reid_test/test/*.jpg'))\n",
    "query_list = sorted(glob('/home/zbc/data/cvwc/reid_test/test/*.jpg'))\n",
    "img_list = query_list\n",
    "gallery_np = np.array(gallery_list)\n",
    "query_np = np.array(query_list)\n",
    "len(query_list), len(gallery_list)"
   ]
  },
  {
   "cell_type": "code",
   "execution_count": 9,
   "metadata": {},
   "outputs": [
    {
     "data": {
      "application/vnd.jupyter.widget-view+json": {
       "model_id": "50c238011df24c819e87e44528041e66",
       "version_major": 2,
       "version_minor": 0
      },
      "text/plain": [
       "HBox(children=(IntProgress(value=0, max=1764), HTML(value='')))"
      ]
     },
     "metadata": {},
     "output_type": "display_data"
    },
    {
     "name": "stdout",
     "output_type": "stream",
     "text": [
      "\n"
     ]
    }
   ],
   "source": [
    "feats = []\n",
    "for im in tqdm_notebook(img_list):\n",
    "    im = Image.open(im)\n",
    "    feat = model(trm(im).unsqueeze(0).cuda())\n",
    "    feats.append(feat.cpu().data)\n",
    "del feat\n",
    "feats = torch.cat(feats)"
   ]
  },
  {
   "cell_type": "code",
   "execution_count": 10,
   "metadata": {},
   "outputs": [],
   "source": [
    "query_feat = feats\n",
    "gallery_feat = feats"
   ]
  },
  {
   "cell_type": "code",
   "execution_count": 11,
   "metadata": {},
   "outputs": [
    {
     "data": {
      "text/plain": [
       "(torch.Size([1764, 2048]), torch.Size([1764, 2048]))"
      ]
     },
     "execution_count": 11,
     "metadata": {},
     "output_type": "execute_result"
    }
   ],
   "source": [
    "query_feat.shape, gallery_feat.shape"
   ]
  },
  {
   "cell_type": "code",
   "execution_count": 12,
   "metadata": {},
   "outputs": [],
   "source": [
    "from evaluate import euclidean_dist\n",
    "from evaluate import re_rank"
   ]
  },
  {
   "cell_type": "code",
   "execution_count": 13,
   "metadata": {},
   "outputs": [],
   "source": [
    "#distmat = euclidean_dist(query_feat, gallery_feat)\n",
    "distmat = re_rank(query_feat, gallery_feat)\n",
    "ind = np.argsort(distmat, axis=1)"
   ]
  },
  {
   "cell_type": "code",
   "execution_count": 24,
   "metadata": {},
   "outputs": [
    {
     "data": {
      "text/plain": [
       "array([4.1723251e-08, 2.4751529e-01, 2.5279206e-01, 2.6545784e-01,\n",
       "       2.7384782e-01, 2.7899763e-01, 2.9523459e-01, 3.1298691e-01,\n",
       "       3.1582478e-01, 3.6392900e-01], dtype=float32)"
      ]
     },
     "execution_count": 24,
     "metadata": {},
     "output_type": "execute_result"
    }
   ],
   "source": [
    "distmat[0][ind[0]][:10]"
   ]
  },
  {
   "cell_type": "code",
   "execution_count": 25,
   "metadata": {},
   "outputs": [
    {
     "data": {
      "text/plain": [
       "array(['/home/zbc/data/cvwc/reid_test/test/000000.jpg',\n",
       "       '/home/zbc/data/cvwc/reid_test/test/003349.jpg',\n",
       "       '/home/zbc/data/cvwc/reid_test/test/001191.jpg',\n",
       "       '/home/zbc/data/cvwc/reid_test/test/005074.jpg',\n",
       "       '/home/zbc/data/cvwc/reid_test/test/000483.jpg',\n",
       "       '/home/zbc/data/cvwc/reid_test/test/003810.jpg',\n",
       "       '/home/zbc/data/cvwc/reid_test/test/004558.jpg',\n",
       "       '/home/zbc/data/cvwc/reid_test/test/000067.jpg',\n",
       "       '/home/zbc/data/cvwc/reid_test/test/003746.jpg',\n",
       "       '/home/zbc/data/cvwc/reid_test/test/002555.jpg'], dtype='<U45')"
      ]
     },
     "execution_count": 25,
     "metadata": {},
     "output_type": "execute_result"
    }
   ],
   "source": [
    "gallery_np[ind[0]][:10]"
   ]
  },
  {
   "cell_type": "code",
   "execution_count": 26,
   "metadata": {},
   "outputs": [],
   "source": [
    "import ipywidgets as widgets\n",
    "from ipywidgets import interact, interact_manual"
   ]
  },
  {
   "cell_type": "code",
   "execution_count": 27,
   "metadata": {},
   "outputs": [],
   "source": [
    "from utils.vistools import read_im, make_im_grid, save_im"
   ]
  },
  {
   "cell_type": "code",
   "execution_count": 28,
   "metadata": {},
   "outputs": [],
   "source": [
    "def show(q_id=0, show_num=10):\n",
    "    q_im = read_im(query_np[q_id])\n",
    "    g_ims = [read_im(i) for i in gallery_np[ind[q_id]][1:show_num+1]]\n",
    "    ims = [q_im]\n",
    "    ims.extend(g_ims)\n",
    "    import math\n",
    "    s = int(math.sqrt(len(ims))) + 1\n",
    "    img = make_im_grid(ims, s, s, 4, 255)\n",
    "    save_im(img, 'temp.png')\n",
    "    img = Image.open('temp.png')\n",
    "    !rm temp.png\n",
    "    return img"
   ]
  },
  {
   "cell_type": "code",
   "execution_count": 29,
   "metadata": {},
   "outputs": [
    {
     "data": {
      "application/vnd.jupyter.widget-view+json": {
       "model_id": "9dfaa2a7f96f4a5cb5c3b86e7db30f62",
       "version_major": 2,
       "version_minor": 0
      },
      "text/plain": [
       "interactive(children=(Dropdown(description='q_id', options=(0, 1, 2, 3, 4, 5, 6, 7, 8, 9, 10, 11, 12, 13, 14, …"
      ]
     },
     "metadata": {},
     "output_type": "display_data"
    }
   ],
   "source": [
    "@interact\n",
    "def inter_show(q_id=range(1052), show_num=range(1, 101)):\n",
    "    return show(q_id, show_num)"
   ]
  },
  {
   "cell_type": "code",
   "execution_count": 30,
   "metadata": {},
   "outputs": [],
   "source": [
    "import json\n",
    "import ntpath"
   ]
  },
  {
   "cell_type": "code",
   "execution_count": 31,
   "metadata": {},
   "outputs": [
    {
     "data": {
      "text/plain": [
       "'000000'"
      ]
     },
     "execution_count": 31,
     "metadata": {},
     "output_type": "execute_result"
    }
   ],
   "source": [
    "ntpath.basename(img_list[0])[:-4]"
   ]
  },
  {
   "cell_type": "code",
   "execution_count": 32,
   "metadata": {},
   "outputs": [],
   "source": [
    "ans_ids = []\n",
    "ans_list = gallery_np[ind[0]][1:]\n",
    "for ans in ans_list:\n",
    "    ans_ids.append(int(ntpath.basename(ans)[:-4]))"
   ]
  },
  {
   "cell_type": "code",
   "execution_count": 33,
   "metadata": {},
   "outputs": [],
   "source": [
    "whole_ans = []\n",
    "for idx, im in enumerate(img_list):\n",
    "    query_id = int(ntpath.basename(im)[:-4])\n",
    "    ans_ids = []\n",
    "    ans_list = gallery_np[ind[idx]][1:]\n",
    "    for ans in ans_list:\n",
    "        ans_ids.append(int(ntpath.basename(ans)[:-4]))\n",
    "    \n",
    "    whole_ans.append({\n",
    "        'query_id': query_id,\n",
    "        'ans_ids': ans_ids\n",
    "    })"
   ]
  },
  {
   "cell_type": "code",
   "execution_count": 34,
   "metadata": {},
   "outputs": [],
   "source": [
    "json.dump(whole_ans, open('plain_reid_submit_rerank_all100.json', 'w'))"
   ]
  },
  {
   "cell_type": "code",
   "execution_count": null,
   "metadata": {},
   "outputs": [],
   "source": []
  }
 ],
 "metadata": {
  "kernelspec": {
   "display_name": "Python 3",
   "language": "python",
   "name": "python3"
  },
  "language_info": {
   "codemirror_mode": {
    "name": "ipython",
    "version": 3
   },
   "file_extension": ".py",
   "mimetype": "text/x-python",
   "name": "python",
   "nbconvert_exporter": "python",
   "pygments_lexer": "ipython3",
   "version": "3.7.3"
  }
 },
 "nbformat": 4,
 "nbformat_minor": 2
}
