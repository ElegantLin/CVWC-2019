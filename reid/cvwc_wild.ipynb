{
 "cells": [
  {
   "cell_type": "code",
   "execution_count": 1,
   "metadata": {},
   "outputs": [
    {
     "name": "stdout",
     "output_type": "stream",
     "text": [
      "env: CUDA_VISIBLE_DEVICES=1\n"
     ]
    }
   ],
   "source": [
    "%env CUDA_VISIBLE_DEVICES 1"
   ]
  },
  {
   "cell_type": "code",
   "execution_count": 2,
   "metadata": {},
   "outputs": [],
   "source": [
    "import torch\n",
    "import torchvision\n",
    "from torchvision import transforms as T\n",
    "import numpy as np\n",
    "from tqdm import tqdm_notebook\n",
    "from PIL import Image\n",
    "from glob import glob\n",
    "import shutil\n",
    "from sklearn.cluster import KMeans"
   ]
  },
  {
   "cell_type": "code",
   "execution_count": 3,
   "metadata": {},
   "outputs": [],
   "source": [
    "from model import build_model\n",
    "from dataset import make_dataloader\n",
    "from config import cfg"
   ]
  },
  {
   "cell_type": "code",
   "execution_count": 4,
   "metadata": {},
   "outputs": [],
   "source": [
    "cfg.merge_from_file('configs/cvwc1.yml')"
   ]
  },
  {
   "cell_type": "code",
   "execution_count": 5,
   "metadata": {},
   "outputs": [
    {
     "name": "stdout",
     "output_type": "stream",
     "text": [
      "=> Data loaded\n",
      "Dataset statistics:\n",
      "  ----------------------------------------\n",
      "  subset   | # ids | # images | # cameras\n",
      "  ----------------------------------------\n",
      "  train    |   107 |     1887 |         1\n",
      "  query    |    20 |       40 |         1\n",
      "  gallery  |    20 |      438 |         1\n",
      "  ----------------------------------------\n"
     ]
    }
   ],
   "source": [
    "_, _, _, num_classes = make_dataloader(cfg)"
   ]
  },
  {
   "cell_type": "code",
   "execution_count": 6,
   "metadata": {},
   "outputs": [],
   "source": [
    "model = build_model(cfg, num_classes)\n",
    "para_dict = torch.load('outputs/cvwc_local/resnet50_epoch45.pth')\n",
    "model.load_state_dict(para_dict)\n",
    "model.cuda()\n",
    "model.eval();"
   ]
  },
  {
   "cell_type": "code",
   "execution_count": 7,
   "metadata": {},
   "outputs": [],
   "source": [
    "trm = T.Compose([\n",
    "    T.Resize(cfg.INPUT.SIZE_TEST),\n",
    "    T.ToTensor(),\n",
    "    T.Normalize(mean=cfg.INPUT.PIXEL_MEAN, std=cfg.INPUT.PIXEL_STD),\n",
    "])"
   ]
  },
  {
   "cell_type": "code",
   "execution_count": 8,
   "metadata": {},
   "outputs": [
    {
     "data": {
      "text/plain": [
       "(4334, 4334)"
      ]
     },
     "execution_count": 8,
     "metadata": {},
     "output_type": "execute_result"
    }
   ],
   "source": [
    "gallery_list = sorted(glob('/home/zbc/data/cvwc/detection_test/test_bb/*.jpg'))\n",
    "query_list = sorted(glob('/home/zbc/data/cvwc/detection_test/test_bb/*.jpg'))\n",
    "img_list = query_list\n",
    "gallery_np = np.array(gallery_list)\n",
    "query_np = np.array(query_list)\n",
    "len(query_list), len(gallery_list)"
   ]
  },
  {
   "cell_type": "code",
   "execution_count": 9,
   "metadata": {},
   "outputs": [
    {
     "data": {
      "application/vnd.jupyter.widget-view+json": {
       "model_id": "f90b7a0b23a2499384af2ad14a3be59c",
       "version_major": 2,
       "version_minor": 0
      },
      "text/plain": [
       "HBox(children=(IntProgress(value=0, max=4334), HTML(value='')))"
      ]
     },
     "metadata": {},
     "output_type": "display_data"
    },
    {
     "name": "stdout",
     "output_type": "stream",
     "text": [
      "\n"
     ]
    }
   ],
   "source": [
    "feats = []\n",
    "for im in tqdm_notebook(img_list):\n",
    "    im = Image.open(im)\n",
    "    feat = model(trm(im).unsqueeze(0).cuda())\n",
    "    feats.append(feat.cpu().data)\n",
    "del feat\n",
    "feats = torch.cat(feats)"
   ]
  },
  {
   "cell_type": "code",
   "execution_count": 10,
   "metadata": {},
   "outputs": [],
   "source": [
    "query_feat = feats\n",
    "gallery_feat = feats"
   ]
  },
  {
   "cell_type": "code",
   "execution_count": 11,
   "metadata": {},
   "outputs": [
    {
     "data": {
      "text/plain": [
       "(torch.Size([4334, 2048]), torch.Size([4334, 2048]))"
      ]
     },
     "execution_count": 11,
     "metadata": {},
     "output_type": "execute_result"
    }
   ],
   "source": [
    "query_feat.shape, gallery_feat.shape"
   ]
  },
  {
   "cell_type": "code",
   "execution_count": 12,
   "metadata": {},
   "outputs": [],
   "source": [
    "from evaluate import euclidean_dist\n",
    "from evaluate import re_rank"
   ]
  },
  {
   "cell_type": "code",
   "execution_count": 13,
   "metadata": {},
   "outputs": [],
   "source": [
    "#distmat = euclidean_dist(query_feat, gallery_feat)\n",
    "distmat = re_rank(query_feat, gallery_feat)\n",
    "ind = np.argsort(distmat, axis=1)"
   ]
  },
  {
   "cell_type": "code",
   "execution_count": 14,
   "metadata": {},
   "outputs": [
    {
     "data": {
      "text/plain": [
       "array([3.9988452e-17, 2.1281974e-02, 2.4117138e-02, 3.0147396e-02,\n",
       "       3.1368878e-02, 3.4097627e-02, 4.3901734e-02, 4.6741121e-02,\n",
       "       5.3687580e-02, 5.5294842e-02], dtype=float32)"
      ]
     },
     "execution_count": 14,
     "metadata": {},
     "output_type": "execute_result"
    }
   ],
   "source": [
    "distmat[0][ind[0]][:10]"
   ]
  },
  {
   "cell_type": "code",
   "execution_count": 15,
   "metadata": {},
   "outputs": [
    {
     "data": {
      "text/plain": [
       "array(['/home/zbc/data/cvwc/detection_test/test_bb/0001_b00_685_378_643_356.jpg',\n",
       "       '/home/zbc/data/cvwc/detection_test/test_bb/1679_b00_708_366_658_360.jpg',\n",
       "       '/home/zbc/data/cvwc/detection_test/test_bb/4248_b00_667_336_653_348.jpg',\n",
       "       '/home/zbc/data/cvwc/detection_test/test_bb/2218_b00_751_315_677_353.jpg',\n",
       "       '/home/zbc/data/cvwc/detection_test/test_bb/2639_b00_640_316_675_347.jpg',\n",
       "       '/home/zbc/data/cvwc/detection_test/test_bb/1281_b00_657_293_622_341.jpg',\n",
       "       '/home/zbc/data/cvwc/detection_test/test_bb/3217_b00_730_324_710_382.jpg',\n",
       "       '/home/zbc/data/cvwc/detection_test/test_bb/2149_b00_652_338_573_332.jpg',\n",
       "       '/home/zbc/data/cvwc/detection_test/test_bb/3093_b00_521_334_701_363.jpg',\n",
       "       '/home/zbc/data/cvwc/detection_test/test_bb/4265_b00_630_292_622_337.jpg'],\n",
       "      dtype='<U72')"
      ]
     },
     "execution_count": 15,
     "metadata": {},
     "output_type": "execute_result"
    }
   ],
   "source": [
    "gallery_np[ind[0]][:10]"
   ]
  },
  {
   "cell_type": "code",
   "execution_count": 16,
   "metadata": {},
   "outputs": [],
   "source": [
    "import ipywidgets as widgets\n",
    "from ipywidgets import interact, interact_manual"
   ]
  },
  {
   "cell_type": "code",
   "execution_count": 17,
   "metadata": {},
   "outputs": [],
   "source": [
    "from utils.vistools import read_im, make_im_grid, save_im"
   ]
  },
  {
   "cell_type": "code",
   "execution_count": 18,
   "metadata": {},
   "outputs": [],
   "source": [
    "def show(q_id=0, show_num=10):\n",
    "    q_im = read_im(query_np[q_id])\n",
    "    g_ims = [read_im(i) for i in gallery_np[ind[q_id]][1:show_num+1]]\n",
    "    ims = [q_im]\n",
    "    ims.extend(g_ims)\n",
    "    import math\n",
    "    s = int(math.sqrt(len(ims))) + 1\n",
    "    img = make_im_grid(ims, s, s, 4, 255)\n",
    "    save_im(img, 'temp.png')\n",
    "    img = Image.open('temp.png')\n",
    "    !rm temp.png\n",
    "    return img"
   ]
  },
  {
   "cell_type": "code",
   "execution_count": 19,
   "metadata": {},
   "outputs": [
    {
     "data": {
      "application/vnd.jupyter.widget-view+json": {
       "model_id": "64453ba924534df6b1907b6f15ef5593",
       "version_major": 2,
       "version_minor": 0
      },
      "text/plain": [
       "interactive(children=(Dropdown(description='q_id', options=(0, 1, 2, 3, 4, 5, 6, 7, 8, 9, 10, 11, 12, 13, 14, …"
      ]
     },
     "metadata": {},
     "output_type": "display_data"
    }
   ],
   "source": [
    "@interact\n",
    "def inter_show(q_id=range(1052), show_num=range(1, 101)):\n",
    "    return show(q_id, show_num)"
   ]
  },
  {
   "cell_type": "code",
   "execution_count": 20,
   "metadata": {},
   "outputs": [],
   "source": [
    "import json\n",
    "import ntpath\n",
    "import re"
   ]
  },
  {
   "cell_type": "code",
   "execution_count": 21,
   "metadata": {},
   "outputs": [],
   "source": [
    "pattern = re.compile(r'([\\d]+)_b([\\d]+)_([\\d]+)_([\\d]+)_([\\d]+)_([\\d]+)')"
   ]
  },
  {
   "cell_type": "code",
   "execution_count": 22,
   "metadata": {},
   "outputs": [
    {
     "data": {
      "text/plain": [
       "'0001_b00_685_378_643_356'"
      ]
     },
     "execution_count": 22,
     "metadata": {},
     "output_type": "execute_result"
    }
   ],
   "source": [
    "ntpath.basename(img_list[0])[:-4]"
   ]
  },
  {
   "cell_type": "code",
   "execution_count": 23,
   "metadata": {},
   "outputs": [
    {
     "data": {
      "text/plain": [
       "('0001', '00', '685', '378', '643', '356')"
      ]
     },
     "execution_count": 23,
     "metadata": {},
     "output_type": "execute_result"
    }
   ],
   "source": [
    "pattern.search(img_list[0]).groups()"
   ]
  },
  {
   "cell_type": "code",
   "execution_count": 24,
   "metadata": {},
   "outputs": [],
   "source": [
    "bboxs = []\n",
    "bbox_2_id = {}\n",
    "for bb_idx, bbx in enumerate(img_list):\n",
    "    img_id, _, x, y, w, h = map(int, pattern.search(bbx).groups())\n",
    "    bbx_dict = {\n",
    "        'bbox_id': bb_idx,\n",
    "        'image_id': img_id,\n",
    "        'pos': [x, y, w, h]\n",
    "    }\n",
    "    bbox_2_id.update({\n",
    "        ntpath.basename(bbx)[:-4]: bb_idx\n",
    "    })\n",
    "    bboxs.append(bbx_dict)"
   ]
  },
  {
   "cell_type": "code",
   "execution_count": 25,
   "metadata": {},
   "outputs": [],
   "source": [
    "final = {\n",
    "    'bboxs': bboxs,\n",
    "    'reid_result': []\n",
    "}"
   ]
  },
  {
   "cell_type": "code",
   "execution_count": null,
   "metadata": {},
   "outputs": [],
   "source": []
  },
  {
   "cell_type": "code",
   "execution_count": 26,
   "metadata": {},
   "outputs": [],
   "source": [
    "ans_ids = []\n",
    "ans_list = gallery_np[ind[0]][1:]\n",
    "for ans in ans_list:\n",
    "    ans_ids.append(bbox_2_id[ntpath.basename(ans)[:-4]])"
   ]
  },
  {
   "cell_type": "code",
   "execution_count": 27,
   "metadata": {},
   "outputs": [
    {
     "data": {
      "text/plain": [
       "'/home/zbc/data/cvwc/detection_test/test_bb/1679_b00_708_366_658_360.jpg'"
      ]
     },
     "execution_count": 27,
     "metadata": {},
     "output_type": "execute_result"
    }
   ],
   "source": [
    "img_list[1676]"
   ]
  },
  {
   "cell_type": "code",
   "execution_count": 28,
   "metadata": {},
   "outputs": [],
   "source": [
    "for idx, im in enumerate(img_list):\n",
    "    query_id = bbox_2_id[ntpath.basename(im)[:-4]]\n",
    "    ans_ids = []\n",
    "    ans_list = gallery_np[ind[idx]][1:]\n",
    "    for ans in ans_list:\n",
    "        ans_ids.append(bbox_2_id[ntpath.basename(ans)[:-4]])\n",
    "    \n",
    "    final['reid_result'].append({\n",
    "        'query_id': query_id,\n",
    "        'ans_ids': ans_ids\n",
    "    })"
   ]
  },
  {
   "cell_type": "code",
   "execution_count": 29,
   "metadata": {},
   "outputs": [],
   "source": [
    "json.dump(final, open('wild_reid_submit_rerank_all100.json', 'w'))"
   ]
  },
  {
   "cell_type": "code",
   "execution_count": null,
   "metadata": {},
   "outputs": [],
   "source": []
  }
 ],
 "metadata": {
  "kernelspec": {
   "display_name": "Python 3",
   "language": "python",
   "name": "python3"
  },
  "language_info": {
   "codemirror_mode": {
    "name": "ipython",
    "version": 3
   },
   "file_extension": ".py",
   "mimetype": "text/x-python",
   "name": "python",
   "nbconvert_exporter": "python",
   "pygments_lexer": "ipython3",
   "version": "3.7.3"
  }
 },
 "nbformat": 4,
 "nbformat_minor": 2
}
